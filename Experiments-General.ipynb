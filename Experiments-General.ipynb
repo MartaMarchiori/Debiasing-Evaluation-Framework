{
 "cells": [
  {
   "cell_type": "code",
   "execution_count": null,
   "metadata": {
    "scrolled": true
   },
   "outputs": [],
   "source": [
    "from UtilDatasetPrepFromLORE import *\n",
    "from Rankers import *\n",
    "from PreferentialSampling import *\n",
    "from UniformSampling import *\n",
    "from StandardEval import *\n",
    "from FairnessEval import *\n",
    "from Explainers import *"
   ]
  },
  {
   "cell_type": "markdown",
   "metadata": {},
   "source": [
    "# To Set "
   ]
  },
  {
   "cell_type": "markdown",
   "metadata": {},
   "source": [
    "## Sampling"
   ]
  },
  {
   "cell_type": "code",
   "execution_count": null,
   "metadata": {},
   "outputs": [],
   "source": [
    "filename = 'german_credit.csv'\n",
    "path_res = 'Experiments/Res-Test/'\n",
    "path_data = 'datasets/'\n",
    "sensitive = ['foreign_worker'] #OR personal_status_sex\n",
    "discrete, df = prepare_german_dataset(filename, path_data, sensitive)\n",
    "target = 'target'\n",
    "column_names = df.columns.values.tolist()\n",
    "column_names.remove(target)\n",
    "class_names=['Good','Bad']\n",
    "adClass=0\n",
    "disClass=1\n",
    "protected = ['foreign_worker_no','foreign_worker_yes']\n",
    "protected_feature='foreigners' \n",
    "non_sensitive = [elem for elem in column_names if elem not in protected]\n",
    "adAttr=None\n",
    "disAttr=None"
   ]
  },
  {
   "cell_type": "markdown",
   "metadata": {},
   "source": [
    "### Uniform Sampling"
   ]
  },
  {
   "cell_type": "code",
   "execution_count": null,
   "metadata": {},
   "outputs": [],
   "source": [
    "samplingName = \"US_\"\n",
    "X,Y,X_blind,X_train,X_test,y_train,y_test,df=prepare_for_sampling(df,protected)\n",
    "'''X_test = pd.DataFrame(X_test, columns=column_names)\n",
    "X_test = X_test.sample(300)\n",
    "y_test = y_test[X_test.index]\n",
    "X_test = X_test.values'''\n",
    "findFreq(target,protected,df)"
   ]
  },
  {
   "cell_type": "code",
   "execution_count": null,
   "metadata": {
    "scrolled": true
   },
   "outputs": [],
   "source": [
    "df_new=UniformSampling(target,protected,df,adClass,disClass,adAttr,disAttr)\n",
    "findFreq(target,protected,df_new)\n",
    "X_train,X_train_blind,X_train_mod,X_train_mod_blind,y_train_mod,X_test,X_test_blind=prepare_for_classification(df_new,X_train,X_test,column_names,protected,False)"
   ]
  },
  {
   "cell_type": "markdown",
   "metadata": {},
   "source": [
    "### Preferential Sampling"
   ]
  },
  {
   "cell_type": "code",
   "execution_count": null,
   "metadata": {
    "scrolled": false
   },
   "outputs": [],
   "source": [
    "samplingName = \"PS_\"\n",
    "'''X = X.sample(3000)\n",
    "X_blind = X_blind.iloc[X.index]\n",
    "Y = Y[X.index]'''\n",
    "blind,ranker = rankers(X,X_blind,Y)"
   ]
  },
  {
   "cell_type": "code",
   "execution_count": null,
   "metadata": {},
   "outputs": [],
   "source": [
    "PIK = \"Ranker.dat\"\n",
    "with open(path_res+\"/\"+PIK, \"wb\") as f:\n",
    "  pickle.dump(ranker, f)"
   ]
  },
  {
   "cell_type": "code",
   "execution_count": null,
   "metadata": {},
   "outputs": [],
   "source": [
    "PIK = \"Ranker.dat\"\n",
    "with open(path_res+\"/\"+PIK, \"rb\") as f:\n",
    "  ranker = pickle.load(f)"
   ]
  },
  {
   "cell_type": "code",
   "execution_count": null,
   "metadata": {
    "scrolled": true
   },
   "outputs": [],
   "source": [
    "df_new=PreferentialSampling(target,protected,ranker,blind,df,adClass,disClass,adAttr,disAttr)\n",
    "findFreq(target,protected,df_new)\n",
    "X_train,X_train_blind,X_train_mod,X_train_mod_blind,y_train_mod,X_test,X_test_blind=prepare_for_classification(df_new,X_train,X_test,column_names,protected,True)"
   ]
  },
  {
   "cell_type": "markdown",
   "metadata": {},
   "source": [
    "## Clfs"
   ]
  },
  {
   "cell_type": "code",
   "execution_count": null,
   "metadata": {},
   "outputs": [],
   "source": [
    "clfName = \"_MLP_\"\n",
    "clf = MLPClassifier()\n",
    "param_grid = dict(hidden_layer_sizes=[(50, 50, 50), (50, 100, 50)],\n",
    "                          activation=['tanh', 'relu'],\n",
    "                          solver=['sgd', 'adam'],\n",
    "                          alpha=[0.0001, 0.05],\n",
    "                          learning_rate=['constant', 'adaptive']\n",
    "                          )"
   ]
  },
  {
   "cell_type": "code",
   "execution_count": null,
   "metadata": {},
   "outputs": [],
   "source": [
    "clfName = \"_RF_\"\n",
    "clf = RandomForestClassifier()\n",
    "param_grid = {'n_estimators': [200, 500], 'max_features': ['auto', 'sqrt', 'log2'], 'max_depth' : [4,5,6,7,8], 'criterion' : ['gini', 'entropy'], 'bootstrap' : [True, False]}"
   ]
  },
  {
   "cell_type": "markdown",
   "metadata": {},
   "source": [
    "## Explainer & Reference Set "
   ]
  },
  {
   "cell_type": "code",
   "execution_count": null,
   "metadata": {},
   "outputs": [],
   "source": [
    "XAISet = \"_Fix\""
   ]
  },
  {
   "cell_type": "code",
   "execution_count": null,
   "metadata": {},
   "outputs": [],
   "source": [
    "XAISet = \"_Change\""
   ]
  },
  {
   "cell_type": "code",
   "execution_count": null,
   "metadata": {},
   "outputs": [],
   "source": [
    "explainerName = \"_SHAP_\""
   ]
  },
  {
   "cell_type": "code",
   "execution_count": null,
   "metadata": {},
   "outputs": [],
   "source": [
    "explainerName = \"_LIME_\""
   ]
  },
  {
   "cell_type": "markdown",
   "metadata": {},
   "source": [
    "# DEF"
   ]
  },
  {
   "cell_type": "markdown",
   "metadata": {},
   "source": [
    "## Performance"
   ]
  },
  {
   "cell_type": "code",
   "execution_count": null,
   "metadata": {
    "scrolled": false
   },
   "outputs": [],
   "source": [
    "clfOrig,clfOrigBlind,clfMit,clfMitBlind,res = Classifiers(clf,param_grid,target,column_names,X_train,X_train_mod,X_train_blind,X_train_mod_blind,y_train,y_train_mod,X_test,X_test_blind,y_test,protected,adClass,disClass,adAttr,disAttr)\n",
    "res = res.round(3)\n",
    "res.to_csv(path_res+samplingName+clfName+'Performances.csv')\n",
    "res"
   ]
  },
  {
   "cell_type": "code",
   "execution_count": null,
   "metadata": {},
   "outputs": [],
   "source": [
    "PIK = samplingName+clfName+\".dat\"\n",
    "with open(path_res+\"/\"+PIK, \"wb\") as f:\n",
    "  pickle.dump([clfOrig,clfOrigBlind,clfMit,clfMitBlind], f)"
   ]
  },
  {
   "cell_type": "code",
   "execution_count": null,
   "metadata": {},
   "outputs": [],
   "source": [
    "PIK = samplingName+clfName+\".dat\"\n",
    "with open(path_res+\"/\"+PIK, \"rb\") as f:\n",
    "  clfOrig,clfOrigBlind,clfMit,clfMitBlind = pickle.load(f)\n",
    "clfs={'clfOrig':clfOrig,'clfOrigBlind':clfOrigBlind,'clfMit':clfMit,'clfMitBlind':clfMitBlind}"
   ]
  },
  {
   "cell_type": "markdown",
   "metadata": {},
   "source": [
    "## Fairness"
   ]
  },
  {
   "cell_type": "code",
   "execution_count": null,
   "metadata": {
    "scrolled": true
   },
   "outputs": [],
   "source": [
    "plotDisc(res,path_res,samplingName+clfName)"
   ]
  },
  {
   "cell_type": "code",
   "execution_count": null,
   "metadata": {
    "scrolled": true
   },
   "outputs": [],
   "source": [
    "FATInput=DataDescription(X_test,y_test,class_names,column_names,protected,protected_feature)"
   ]
  },
  {
   "cell_type": "code",
   "execution_count": null,
   "metadata": {
    "scrolled": true
   },
   "outputs": [],
   "source": [
    "resDisparateImp=disparateImpactMetrics(clfs,FATInput,X_test,X_test_blind,y_test,protected_feature)\n",
    "resDisparateImp"
   ]
  },
  {
   "cell_type": "code",
   "execution_count": null,
   "metadata": {
    "scrolled": false
   },
   "outputs": [],
   "source": [
    "standardMetricsPerGroup(clfs,column_names,target,X_test,y_test,protected_feature,protected)"
   ]
  },
  {
   "cell_type": "markdown",
   "metadata": {},
   "source": [
    "## Explainability"
   ]
  },
  {
   "cell_type": "code",
   "execution_count": null,
   "metadata": {
    "scrolled": true
   },
   "outputs": [],
   "source": [
    "if XAISet == \"_Fix\":\n",
    "    changeRF=False \n",
    "else: \n",
    "    changeRF=True\n",
    "if explainerName == \"_SHAP_\":\n",
    "    XAI_v = SHAP(clfs,column_names,X_train,X_train_mod,X_test,protected,changeReferenceSet=changeRF)\n",
    "else: \n",
    "    XAI_v = LIME(clfs,column_names,X_train,X_train_mod,X_test,protected,changeReferenceSet=changeRF)\n",
    "XAISum,XAIMean = deltas(XAI_v,column_names)\n",
    "resXAI = buildFinalResXAI(XAISum,XAIMean,protected,non_sensitive)\n",
    "resXAI.to_csv(path_or_buf=path_res+samplingName+clfName+explainerName+XAISet+'.csv')\n",
    "resXAI"
   ]
  },
  {
   "cell_type": "code",
   "execution_count": null,
   "metadata": {},
   "outputs": [],
   "source": [
    "PIK = samplingName+clfName+explainerName+XAISet+\".dat\"\n",
    "with open(path_res+\"/\"+PIK, \"wb\") as f:\n",
    "  pickle.dump(XAI_v, f)"
   ]
  },
  {
   "cell_type": "code",
   "execution_count": null,
   "metadata": {},
   "outputs": [],
   "source": [
    "PIK = samplingName+clfName+explainerName+XAISet+\".dat\"\n",
    "with open(path_res+\"/\"+PIK, \"rb\") as f:\n",
    "  XAI_v = pickle.load(f)"
   ]
  },
  {
   "cell_type": "code",
   "execution_count": null,
   "metadata": {},
   "outputs": [],
   "source": [
    "XAISum,XAIMean = deltas(XAI_v,column_names)\n",
    "XAIMean"
   ]
  },
  {
   "cell_type": "code",
   "execution_count": null,
   "metadata": {
    "scrolled": true
   },
   "outputs": [],
   "source": [
    "EValues = computeE(XAI_v,column_names)\n",
    "EValues "
   ]
  },
  {
   "cell_type": "code",
   "execution_count": null,
   "metadata": {
    "scrolled": true
   },
   "outputs": [],
   "source": [
    "XAIPlots(XAI_v,column_names,diffClfs=True)"
   ]
  },
  {
   "cell_type": "code",
   "execution_count": null,
   "metadata": {
    "scrolled": true
   },
   "outputs": [],
   "source": [
    "XAIPlots(XAI_v,protected,diffClfs=True)"
   ]
  },
  {
   "cell_type": "markdown",
   "metadata": {},
   "source": [
    "### Comparison"
   ]
  },
  {
   "cell_type": "code",
   "execution_count": null,
   "metadata": {},
   "outputs": [],
   "source": [
    "XAISet = \"_Fix\"\n",
    "PIK = samplingName+clfName+explainerName+XAISet+'.dat\"\n",
    "with open(path_res+\"/\"+PIK, \"rb\") as f:\n",
    "  XAI_v_fix = pickle.load(f)\n",
    "\n",
    "XAISet = \"_Change\"\n",
    "PIK = samplingName+clfName+explainerName+XAISet+'.dat\"\n",
    "with open(path_res+\"/\"+PIK, \"rb\") as f:\n",
    "  XAI_v_change = pickle.load(f)\n",
    "\n",
    "XAISum,XAIMean = deltas(XAI_v_fix,column_names,False,XAI_v_change)\n",
    "XAIMean"
   ]
  },
  {
   "cell_type": "code",
   "execution_count": null,
   "metadata": {
    "scrolled": true
   },
   "outputs": [],
   "source": [
    "resXAI = buildFinalResXAI(XAISum,XAIMean,protected,non_sensitive)\n",
    "resXAI = resXAI.round(3)\n",
    "resXAI"
   ]
  },
  {
   "cell_type": "code",
   "execution_count": null,
   "metadata": {
    "scrolled": true
   },
   "outputs": [],
   "source": [
    "XAIPlots(XAI_v_fix,protected,True,XAI_v_change)"
   ]
  }
 ],
 "metadata": {
  "kernelspec": {
   "display_name": "Python 3",
   "language": "python",
   "name": "python3"
  },
  "language_info": {
   "codemirror_mode": {
    "name": "ipython",
    "version": 3
   },
   "file_extension": ".py",
   "mimetype": "text/x-python",
   "name": "python",
   "nbconvert_exporter": "python",
   "pygments_lexer": "ipython3",
   "version": "3.6.10"
  },
  "toc": {
   "base_numbering": 1,
   "nav_menu": {},
   "number_sections": true,
   "sideBar": true,
   "skip_h1_title": false,
   "title_cell": "Table of Contents",
   "title_sidebar": "Contents",
   "toc_cell": false,
   "toc_position": {
    "height": "calc(100% - 180px)",
    "left": "10px",
    "top": "150px",
    "width": "165px"
   },
   "toc_section_display": true,
   "toc_window_display": true
  }
 },
 "nbformat": 4,
 "nbformat_minor": 4
}
